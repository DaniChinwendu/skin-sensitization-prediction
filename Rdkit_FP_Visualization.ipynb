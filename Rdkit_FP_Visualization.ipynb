{
  "nbformat": 4,
  "nbformat_minor": 0,
  "metadata": {
    "colab": {
      "provenance": [],
      "authorship_tag": "ABX9TyNj7lzd8ThuDDl4pzbz+Cdi",
      "include_colab_link": true
    },
    "kernelspec": {
      "name": "python3",
      "display_name": "Python 3"
    },
    "language_info": {
      "name": "python"
    }
  },
  "cells": [
    {
      "cell_type": "markdown",
      "metadata": {
        "id": "view-in-github",
        "colab_type": "text"
      },
      "source": [
        "<a href=\"https://colab.research.google.com/github/DaniChinwendu/skin-sensitization-prediction/blob/main/Rdkit_FP_Visualization.ipynb\" target=\"_parent\"><img src=\"https://colab.research.google.com/assets/colab-badge.svg\" alt=\"Open In Colab\"/></a>"
      ]
    },
    {
      "cell_type": "code",
      "source": [
        "\"\"\"\n",
        "OPTIMIZING SKIN SENSITIZATION PREDICTION: A COMPARATIVE ANALYSIS OF KNN VS RANDOM FOREST\n",
        "\n",
        "RDKit Fingerprint Bit Visualization - Google Colab Notebook\n",
        "OPTIMIZING SKIN SENSITIZATION PREDICTION: A COMPARATIVE ANALYSIS OF KNN VS RANDOM FOREST\n",
        "\n",
        "Daniel C. Ukaegbu 1, Karolina Kopanska 1, Peter Ranslow 2, Thomas Hartung 1, Alexandra Maertens 1*\n",
        "1 Center for Alternatives to Animal Testing (CAAT), Johns Hopkins Bloomberg School of Public Health, Baltimore, Maryland 21205, United States\n",
        "2 Consortium for Environmental Risk Management (CERM), Hallowell, Maine 04347, United States\n",
        "*Correspondence:\n",
        "Alexandra Maertens\n",
        "amaerte1@jhu.edu\n",
        "\n",
        "\n",
        "Generates Morgan and AtomPair fingerprints and visualizes key bits.\n",
        "Saves PNG images of highlighted substructures for each active bit.\n",
        "\"\"\""
      ],
      "metadata": {
        "colab": {
          "base_uri": "https://localhost:8080/",
          "height": 72
        },
        "collapsed": true,
        "id": "hKpBfwQBH9zN",
        "outputId": "f843c1c0-269f-42cf-9319-b5a6d7aca515"
      },
      "execution_count": null,
      "outputs": [
        {
          "output_type": "execute_result",
          "data": {
            "text/plain": [
              "'\\nOPTIMIZING SKIN SENSITIZATION PREDICTION: A COMPARATIVE ANALYSIS OF KNN VS RANDOM FOREST\\n\\nRDKit Fingerprint Bit Visualization - Google Colab Notebook\\n\\nAuthors:\\nDaniel C. Ukaegbu, ………, ………, Thomas Hartung, Alexandra Maertens\\n\\nAffiliation:\\nCenter for Alternatives to Animal Testing (CAAT),\\nJohns Hopkins Bloomberg School of Public Health,\\nBaltimore, Maryland 21205, United States\\n\\nCorrespondence:\\nAlexandra Maertens\\nEmail: amaerte1@jhu.edu\\n\\nGenerates Morgan and AtomPair fingerprints and visualizes key bits.\\nSaves PNG images of highlighted substructures for each active bit.\\n'"
            ],
            "application/vnd.google.colaboratory.intrinsic+json": {
              "type": "string"
            }
          },
          "metadata": {},
          "execution_count": 1
        }
      ]
    },
    {
      "cell_type": "code",
      "source": [
        "# ============================================================================\n",
        "# SECTION 1: Install Dependencies (Run this first in Colab)\n",
        "# ============================================================================\n",
        "!pip install rdkit"
      ],
      "metadata": {
        "colab": {
          "base_uri": "https://localhost:8080/"
        },
        "id": "oafmQbX23ujY",
        "outputId": "61b19dbc-8370-43a1-d84d-f89544eaadd3"
      },
      "execution_count": null,
      "outputs": [
        {
          "output_type": "stream",
          "name": "stdout",
          "text": [
            "Collecting rdkit\n",
            "  Downloading rdkit-2025.9.1-cp312-cp312-manylinux_2_28_x86_64.whl.metadata (4.1 kB)\n",
            "Requirement already satisfied: numpy in /usr/local/lib/python3.12/dist-packages (from rdkit) (2.0.2)\n",
            "Requirement already satisfied: Pillow in /usr/local/lib/python3.12/dist-packages (from rdkit) (11.3.0)\n",
            "Downloading rdkit-2025.9.1-cp312-cp312-manylinux_2_28_x86_64.whl (36.2 MB)\n",
            "\u001b[2K   \u001b[90m━━━━━━━━━━━━━━━━━━━━━━━━━━━━━━━━━━━━━━━━\u001b[0m \u001b[32m36.2/36.2 MB\u001b[0m \u001b[31m50.4 MB/s\u001b[0m eta \u001b[36m0:00:00\u001b[0m\n",
            "\u001b[?25hInstalling collected packages: rdkit\n",
            "Successfully installed rdkit-2025.9.1\n"
          ]
        }
      ]
    },
    {
      "cell_type": "code",
      "source": [
        "# ============================================================================\n",
        "# SECTION 2: Import Depedencies and View Visualizable Fingeprint Bits\n",
        "# ============================================================================\n",
        "\n",
        "import numpy as np\n",
        "import pandas as pd\n",
        "from rdkit import Chem\n",
        "from rdkit.Chem import rdFingerprintGenerator\n",
        "\n",
        "def get_visualizable_bits(smiles):\n",
        "    \"\"\"\n",
        "    Get visualizable bits for Morgan and Atom Pair fingerprints from a SMILES string.\n",
        "\n",
        "    Args:\n",
        "        smiles (str): SMILES string of the molecule\n",
        "\n",
        "    Returns:\n",
        "        dict: Dictionary with 'morgan_bits' and 'atom_pair_bits' lists\n",
        "    \"\"\"\n",
        "    # Parse SMILES\n",
        "    mol = Chem.MolFromSmiles(smiles)\n",
        "\n",
        "    if mol is None:\n",
        "        print(f\"Error: Invalid SMILES string '{smiles}'\")\n",
        "        return None\n",
        "\n",
        "    results = {}\n",
        "\n",
        "    # --- Morgan Fingerprint ---\n",
        "    gen = rdFingerprintGenerator.GetMorganGenerator(radius=3, fpSize=512)\n",
        "    ao = rdFingerprintGenerator.AdditionalOutput()\n",
        "    ao.AllocateBitInfoMap()\n",
        "\n",
        "    fp = gen.GetFingerprint(mol, additionalOutput=ao)\n",
        "    bitinfo = ao.GetBitInfoMap()\n",
        "\n",
        "    visualizable_bits = [bit for bit in fp.GetOnBits() if bit in bitinfo]\n",
        "    results['morgan_bits'] = visualizable_bits\n",
        "\n",
        "    # --- Atom Pair Fingerprint ---\n",
        "    gen = rdFingerprintGenerator.GetAtomPairGenerator(fpSize=512)\n",
        "    ao = rdFingerprintGenerator.AdditionalOutput()\n",
        "    ao.AllocateBitInfoMap()\n",
        "\n",
        "    fp = gen.GetFingerprint(mol, additionalOutput=ao)\n",
        "    bitinfo = ao.GetBitInfoMap()\n",
        "\n",
        "    visualizable_bits = [bit for bit in fp.GetOnBits() if bit in bitinfo]\n",
        "    results['atom_pair_bits'] = visualizable_bits\n",
        "\n",
        "    return results\n",
        "\n"
      ],
      "metadata": {
        "id": "201v8dDC7Ngx"
      },
      "execution_count": null,
      "outputs": []
    },
    {
      "cell_type": "code",
      "source": [
        "# ============================================================================\n",
        "# SECTION 3: Input Smiles\n",
        "# ============================================================================\n",
        "# --- Example usage ---\n",
        "# See all Visuliazable bits\n",
        "smiles = 'CCOCCl'\n",
        "bits = get_visualizable_bits(smiles)\n",
        "\n",
        "if bits:\n",
        "    print(f\"SMILES: {smiles}\")\n",
        "    print(f\"\\nMorgan Fingerprint - Visualizable bits ({len(bits['morgan_bits'])} total):\")\n",
        "    print(bits['morgan_bits'])\n",
        "\n",
        "    print(f\"\\nAtom Pair Fingerprint - Visualizable bits ({len(bits['atom_pair_bits'])} total):\")\n",
        "    print(bits['atom_pair_bits'])\n",
        "\n",
        "# Test with multiple SMILES\n",
        "print(\"\\n\" + \"=\"*60 + \"\\n\")\n",
        "\n",
        "test_smiles = ['CCO', 'c1ccccc1', 'CC(=O)O', 'CCOCCl']\n",
        "for smi in test_smiles:\n",
        "    bits = get_visualizable_bits(smi)\n",
        "    if bits:\n",
        "        print(f\"SMILES: {smi}\")\n",
        "        print(f\"  Morgan bits: {len(bits['morgan_bits'])} visualizable\")\n",
        "        print(f\"  Atom Pair bits: {len(bits['atom_pair_bits'])} visualizable\")"
      ],
      "metadata": {
        "colab": {
          "base_uri": "https://localhost:8080/"
        },
        "id": "Z5RTA08M7ulE",
        "outputId": "f7b80551-2506-4761-de16-7baf98af08c9"
      },
      "execution_count": null,
      "outputs": [
        {
          "output_type": "stream",
          "name": "stdout",
          "text": [
            "SMILES: CCOCCl\n",
            "\n",
            "Morgan Fingerprint - Visualizable bits (12 total):\n",
            "[33, 80, 85, 147, 165, 183, 214, 277, 294, 380, 456, 472]\n",
            "\n",
            "Atom Pair Fingerprint - Visualizable bits (10 total):\n",
            "[56, 57, 60, 104, 244, 372, 376, 380, 436, 444]\n",
            "\n",
            "============================================================\n",
            "\n",
            "SMILES: CCO\n",
            "  Morgan bits: 6 visualizable\n",
            "  Atom Pair bits: 3 visualizable\n",
            "SMILES: c1ccccc1\n",
            "  Morgan bits: 4 visualizable\n",
            "  Atom Pair bits: 8 visualizable\n",
            "SMILES: CC(=O)O\n",
            "  Morgan bits: 7 visualizable\n",
            "  Atom Pair bits: 6 visualizable\n",
            "SMILES: CCOCCl\n",
            "  Morgan bits: 12 visualizable\n",
            "  Atom Pair bits: 10 visualizable\n"
          ]
        }
      ]
    },
    {
      "cell_type": "code",
      "execution_count": null,
      "metadata": {
        "colab": {
          "base_uri": "https://localhost:8080/",
          "height": 167
        },
        "id": "s_9NmkxG3eZa",
        "outputId": "b83b862d-9e1e-49c2-84ed-877b5fdfc8d3"
      },
      "outputs": [
        {
          "output_type": "execute_result",
          "data": {
            "text/plain": [
              "<PIL.PngImagePlugin.PngImageFile image mode=RGB size=150x150>"
            ],
            "image/png": "[encoded data removed]",
            "image/jpeg": "[encoded data removed]"
          },
          "metadata": {},
          "execution_count": 14
        }
      ],
      "source": [
        "# ============================================================================\n",
        "# SECTION 4: View Fingerprint Bits (MorganFP)\n",
        "# ============================================================================\n",
        "from rdkit import Chem, DataStructs\n",
        "from rdkit.Chem import Draw\n",
        "\n",
        "\n",
        "# --- Example molecule ---\n",
        "mol = Chem.MolFromSmiles('CCOCCl')\n",
        "\n",
        "# --- Generate RDKit MorganFP Fingerprint with Bit Info ---\n",
        "gen = rdFingerprintGenerator.GetMorganGenerator(radius=3, fpSize=512)\n",
        "ao = rdFingerprintGenerator.AdditionalOutput()\n",
        "ao.AllocateBitInfoMap()\n",
        "\n",
        "# Generate fingerprint and extract bitInfo\n",
        "fp = gen.GetFingerprint(mol, additionalOutput=ao)\n",
        "bitinfo = ao.GetBitInfoMap()\n",
        "\n",
        "# Get visualizable bits\n",
        "visualizable_bits = [bit for bit in fp.GetOnBits() if bit in bitinfo]\n",
        "Draw.DrawMorganBit(mol, 80, bitinfo)\n",
        "\n",
        "\n"
      ]
    },
    {
      "cell_type": "code",
      "source": [
        "# ============================================================================\n",
        "# SECTION 4: View Fingerprint Bits (ATOM PAIR)\n",
        "# ============================================================================\n",
        "# --- Generate RDKit RDKIT ATOM PAIR  Fingerprint with Bit Info ---\n",
        "# Setup ATOMPAIR  generator with bitInfo\n",
        "gen = rdFingerprintGenerator.GetAtomPairGenerator(fpSize=512)\n",
        "ao = rdFingerprintGenerator.AdditionalOutput()\n",
        "ao.AllocateBitInfoMap()\n",
        "\n",
        "# Generate fingerprint and extract bitInfo\n",
        "fp = gen.GetFingerprint(mol, additionalOutput=ao)\n",
        "bitinfo = ao.GetBitInfoMap()\n",
        "\n",
        "# Get visualizable bits\n",
        "visualizable_bits = [bit for bit in fp.GetOnBits() if bit in bitinfo]\n",
        "visualizable_bits\n",
        "Draw.DrawRDKitBit(mol,60,bitinfo)\n"
      ],
      "metadata": {
        "colab": {
          "base_uri": "https://localhost:8080/",
          "height": 167
        },
        "id": "ntUOGrl86nzB",
        "outputId": "efa7249e-f079-46e9-c0f5-949b3003b258"
      },
      "execution_count": null,
      "outputs": [
        {
          "output_type": "execute_result",
          "data": {
            "text/plain": [
              "<PIL.PngImagePlugin.PngImageFile image mode=RGB size=150x150>"
            ],
            "image/png": "[encoded data removed]",
            "image/jpeg": "[encoded data removed]"
          },
          "metadata": {},
          "execution_count": 15
        }
      ]
    }
  ]
}